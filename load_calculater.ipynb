{
 "cells": [
  {
   "cell_type": "code",
   "execution_count": 94,
   "metadata": {},
   "outputs": [],
   "source": [
    "import os,sys,time,math,random\n",
    "import numpy as np"
   ]
  },
  {
   "cell_type": "code",
   "execution_count": 95,
   "metadata": {},
   "outputs": [],
   "source": [
    "LPR_rate=(3.45/100,3.95/100)\n",
    "LPR_BP_rate=(3.0/100,3.5/100)\n",
    "HPF_rate=(2.35/100,2.85/100)\n",
    "#load by 10000\n",
    "Full_loan=327.6\n",
    "HM_loan=145\n",
    "CM_loan=Full_loan-HM_loan\n",
    "\n",
    "#month\n",
    "year=30\n"
   ]
  },
  {
   "cell_type": "code",
   "execution_count": 96,
   "metadata": {},
   "outputs": [],
   "source": [
    "# 等额本息(Average capital plus interest)\n",
    "def Average_capital_plus_interest(loan:float,rate:tuple[float,float],year:int=30):\n",
    "    \"\"\"_summary_\n",
    "\n",
    "    Args:\n",
    "        loan (_type_): _description_\n",
    "        rate (_type_): _description_\n",
    "        year (_type_): _description_\n",
    "    \"\"\"\n",
    "    if year<5:\n",
    "        month_rate=rate[0]/12\n",
    "    else:\n",
    "        month_rate=rate[1]/12\n",
    "    N=year*12\n",
    "    repayment=loan*1e4*(month_rate*(1+month_rate)**N)/((1+month_rate)**N-1)\n",
    "    full_repayment=round(repayment*N,2)\n",
    "    return full_repayment,round(repayment,2)\n"
   ]
  },
  {
   "cell_type": "code",
   "execution_count": 97,
   "metadata": {},
   "outputs": [],
   "source": [
    "# 等额本金(Average capital)\n",
    "def Average_capital(loan:float,rate:tuple[float,float],year:int=30):\n",
    "    \"\"\"_summary_\n",
    "\n",
    "    Args:\n",
    "        loan (_type_): _description_\n",
    "        rate (_type_): _description_\n",
    "        year (_type_): _description_\n",
    "    \"\"\"\n",
    "    if year<5:\n",
    "        month_rate=rate[0]/12\n",
    "    else:\n",
    "        month_rate=rate[1]/12\n",
    "    N=year*12\n",
    "    repayment_list=[]\n",
    "    for i in range(N):\n",
    "        repayment=loan*1e4/N+(loan*1e4-i*loan*1e4/N)*month_rate\n",
    "        repayment_list.append(round(repayment,2))\n",
    "    return sum(repayment_list),np.array(repayment_list)"
   ]
  },
  {
   "cell_type": "code",
   "execution_count": 102,
   "metadata": {},
   "outputs": [
    {
     "name": "stdout",
     "output_type": "stream",
     "text": [
      "(1)等额本息(Average capital plus interest)    \n",
      "总贷款金额:327.6万元\n",
      "商业贷款利率:(0.03, 0.035)\n",
      "公积金贷款利率:(0.0235, 0.0285)\n",
      "还款方式:等额本息\n",
      "还款期数:  360    \n",
      "总还款金额:511.06万元\n",
      "商贷还款总额:295.18万元    \n",
      "公积金还款总额:215.88万元    \n",
      "每月商贷还款:8199.56元\n",
      "每月公积金还款:5996.58元\n",
      "月供:14196.14元\n"
     ]
    }
   ],
   "source": [
    "\n",
    "full_cm_aci,cm_repay=Average_capital_plus_interest(CM_loan,LPR_BP_rate,year)\n",
    "full_hm_aci,hm_repay=Average_capital_plus_interest(HM_loan,HPF_rate,year)\n",
    "info_repayment_aci=f'(1)等额本息(Average capital plus interest)\\\n",
    "    \\n总贷款金额:{Full_loan}万元\\n商业贷款利率:{LPR_BP_rate}\\n公积金贷款利率:{HPF_rate}\\n还款方式:等额本息\\n还款期数:{year*12:5n}\\\n",
    "    \\n总还款金额:{(full_cm_aci+full_hm_aci)/1e4:.2f}万元\\n商贷还款总额:{cm_repay*year*12/1e4:.2f}万元\\\n",
    "    \\n公积金还款总额:{hm_repay*year*12/1e4:.2f}万元\\\n",
    "    \\n每月商贷还款:{cm_repay}元\\n每月公积金还款:{hm_repay}元\\n月供:{round(cm_repay+hm_repay,2)}元'\n",
    "    \n",
    "with open('repay_list_aci.txt','w') as f:\n",
    "    f.write(f'{info_repayment_aci}')\n",
    "print(info_repayment_aci)\n",
    "# 等额本金(Average capital)"
   ]
  },
  {
   "cell_type": "code",
   "execution_count": 99,
   "metadata": {},
   "outputs": [
    {
     "name": "stdout",
     "output_type": "stream",
     "text": [
      "(2)等额本金(Average capital)\n",
      "    总贷款金额:327.6万元\n",
      "商业贷款利率:(0.03, 0.035)\n",
      "公积金贷款利率:(0.0235, 0.0285)\n",
      "还款方式:等额本金\n",
      "还款期数:  360    \n",
      "总还款金额:485.89万元\n",
      "商贷还款总额:278.73万元    \n",
      "公积金还款总额:207.16万元\n",
      "首年月供:[17869.59 17845.22 17820.87 17796.5  17772.14 17747.79 17723.42 17699.07\n",
      " 17674.7  17650.34 17625.99 17601.62]元\n"
     ]
    }
   ],
   "source": [
    "full_cm_ac,cm_repay_np=Average_capital(CM_loan,LPR_BP_rate,year)\n",
    "full_hm_ac,hm_repay_np=Average_capital(HM_loan,HPF_rate,year)\n",
    "repay_list=cm_repay_np+hm_repay_np\n",
    "info_repayment_ac=f'(2)等额本金(Average capital)\\n\\\n",
    "    总贷款金额:{Full_loan}万元\\n商业贷款利率:{LPR_BP_rate}\\n公积金贷款利率:{HPF_rate}\\n还款方式:等额本金\\n还款期数:{year*12:5n}\\\n",
    "    \\n总还款金额:{(full_cm_ac+full_hm_ac)/1e4:.2f}万元\\n商贷还款总额:{np.sum(cm_repay_np)/1e4:.2f}万元\\\n",
    "    \\n公积金还款总额:{np.sum(hm_repay_np)/1e4:.2f}万元\\n首年月供:{repay_list[:12]}元'\n",
    "with open('repay_list_ac.txt','w') as f:\n",
    "    f.write(f'{info_repayment_ac}')\n",
    "    f.write(f'\\n期数 \\t 商贷月供 \\t 公积金月供 \\t 总月供\\n')\n",
    "    for i in range(len(repay_list)):\n",
    "        f.write(f'{i+1} \\t {cm_repay_np[i]:.2f} \\t {hm_repay_np[i]:.2f} \\t {repay_list[i]:.2f}\\n')\n",
    "print(info_repayment_ac)"
   ]
  },
  {
   "cell_type": "code",
   "execution_count": 100,
   "metadata": {},
   "outputs": [
    {
     "data": {
      "text/plain": [
       "array([7471.53, 7461.96, 7452.4 , 7442.83, 7433.26, 7423.7 , 7414.13,\n",
       "       7404.57, 7395.  , 7385.43, 7375.87, 7366.3 , 7356.74, 7347.17,\n",
       "       7337.6 , 7328.04, 7318.47, 7308.91, 7299.34, 7289.77, 7280.21,\n",
       "       7270.64, 7261.08, 7251.51, 7241.94, 7232.38, 7222.81, 7213.25,\n",
       "       7203.68, 7194.11, 7184.55, 7174.98, 7165.42, 7155.85, 7146.28,\n",
       "       7136.72, 7127.15, 7117.59, 7108.02, 7098.45, 7088.89, 7079.32,\n",
       "       7069.76, 7060.19, 7050.62, 7041.06, 7031.49, 7021.93, 7012.36,\n",
       "       7002.8 , 6993.23, 6983.66, 6974.1 , 6964.53, 6954.97, 6945.4 ,\n",
       "       6935.83, 6926.27, 6916.7 , 6907.14, 6897.57, 6888.  , 6878.44,\n",
       "       6868.87, 6859.31, 6849.74, 6840.17, 6830.61, 6821.04, 6811.48,\n",
       "       6801.91, 6792.34, 6782.78, 6773.21, 6763.65, 6754.08, 6744.51,\n",
       "       6734.95, 6725.38, 6715.82, 6706.25, 6696.68, 6687.12, 6677.55,\n",
       "       6667.99, 6658.42, 6648.85, 6639.29, 6629.72, 6620.16, 6610.59,\n",
       "       6601.02, 6591.46, 6581.89, 6572.33, 6562.76, 6553.19, 6543.63,\n",
       "       6534.06, 6524.5 ])"
      ]
     },
     "execution_count": 100,
     "metadata": {},
     "output_type": "execute_result"
    }
   ],
   "source": [
    "hm_repay_np[:100]"
   ]
  }
 ],
 "metadata": {
  "kernelspec": {
   "display_name": "Python 3",
   "language": "python",
   "name": "python3"
  },
  "language_info": {
   "codemirror_mode": {
    "name": "ipython",
    "version": 3
   },
   "file_extension": ".py",
   "mimetype": "text/x-python",
   "name": "python",
   "nbconvert_exporter": "python",
   "pygments_lexer": "ipython3",
   "version": "3.11.0"
  },
  "orig_nbformat": 4
 },
 "nbformat": 4,
 "nbformat_minor": 2
}
